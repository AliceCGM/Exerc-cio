{
 "cells": [
  {
   "cell_type": "code",
   "execution_count": 3,
   "id": "c2dbd7d1",
   "metadata": {},
   "outputs": [],
   "source": [
    "import pandas as pd\n",
    "import numpy as np"
   ]
  },
  {
   "cell_type": "code",
   "execution_count": 53,
   "id": "4423a45d",
   "metadata": {},
   "outputs": [
    {
     "data": {
      "text/html": [
       "<div>\n",
       "<style scoped>\n",
       "    .dataframe tbody tr th:only-of-type {\n",
       "        vertical-align: middle;\n",
       "    }\n",
       "\n",
       "    .dataframe tbody tr th {\n",
       "        vertical-align: top;\n",
       "    }\n",
       "\n",
       "    .dataframe thead th {\n",
       "        text-align: right;\n",
       "    }\n",
       "</style>\n",
       "<table border=\"1\" class=\"dataframe\">\n",
       "  <thead>\n",
       "    <tr style=\"text-align: right;\">\n",
       "      <th></th>\n",
       "      <th>Linguagens</th>\n",
       "      <th>Ciências humanas</th>\n",
       "      <th>Ciências da natureza</th>\n",
       "      <th>Matemática</th>\n",
       "      <th>Redação</th>\n",
       "      <th>Sexo</th>\n",
       "    </tr>\n",
       "  </thead>\n",
       "  <tbody>\n",
       "    <tr>\n",
       "      <th>0</th>\n",
       "      <td>585.669300</td>\n",
       "      <td>686.512178</td>\n",
       "      <td>390.482473</td>\n",
       "      <td>452.281333</td>\n",
       "      <td>546.371706</td>\n",
       "      <td>Homem</td>\n",
       "    </tr>\n",
       "    <tr>\n",
       "      <th>1</th>\n",
       "      <td>359.384608</td>\n",
       "      <td>642.084134</td>\n",
       "      <td>NaN</td>\n",
       "      <td>412.205207</td>\n",
       "      <td>741.825256</td>\n",
       "      <td>Mulher</td>\n",
       "    </tr>\n",
       "    <tr>\n",
       "      <th>2</th>\n",
       "      <td>622.732384</td>\n",
       "      <td>495.510719</td>\n",
       "      <td>443.183580</td>\n",
       "      <td>669.683401</td>\n",
       "      <td>684.515750</td>\n",
       "      <td>Homem</td>\n",
       "    </tr>\n",
       "    <tr>\n",
       "      <th>3</th>\n",
       "      <td>350.164605</td>\n",
       "      <td>602.041588</td>\n",
       "      <td>413.979810</td>\n",
       "      <td>676.608952</td>\n",
       "      <td>671.237114</td>\n",
       "      <td>Homem</td>\n",
       "    </tr>\n",
       "    <tr>\n",
       "      <th>4</th>\n",
       "      <td>384.093657</td>\n",
       "      <td>489.249140</td>\n",
       "      <td>609.758123</td>\n",
       "      <td>520.426698</td>\n",
       "      <td>744.375048</td>\n",
       "      <td>Homem</td>\n",
       "    </tr>\n",
       "  </tbody>\n",
       "</table>\n",
       "</div>"
      ],
      "text/plain": [
       "   Linguagens  Ciências humanas  Ciências da natureza  Matemática     Redação  \\\n",
       "0  585.669300        686.512178            390.482473  452.281333  546.371706   \n",
       "1  359.384608        642.084134                   NaN  412.205207  741.825256   \n",
       "2  622.732384        495.510719            443.183580  669.683401  684.515750   \n",
       "3  350.164605        602.041588            413.979810  676.608952  671.237114   \n",
       "4  384.093657        489.249140            609.758123  520.426698  744.375048   \n",
       "\n",
       "     Sexo  \n",
       "0   Homem  \n",
       "1  Mulher  \n",
       "2   Homem  \n",
       "3   Homem  \n",
       "4   Homem  "
      ]
     },
     "execution_count": 53,
     "metadata": {},
     "output_type": "execute_result"
    }
   ],
   "source": [
    "enem = pd.read_json(r'C:\\Users\\alice\\Desktop\\banco\\enem_2023.json')\n",
    "enem.head(5)"
   ]
  },
  {
   "cell_type": "code",
   "execution_count": 54,
   "id": "f27b6b6b",
   "metadata": {},
   "outputs": [],
   "source": [
    "enem = enem.dropna()"
   ]
  },
  {
   "cell_type": "code",
   "execution_count": 57,
   "id": "4d24678b",
   "metadata": {},
   "outputs": [
    {
     "data": {
      "text/plain": [
       "['Linguagens',\n",
       " 'Ciências humanas',\n",
       " 'Ciências da natureza',\n",
       " 'Matemática',\n",
       " 'Redação']"
      ]
     },
     "execution_count": 57,
     "metadata": {},
     "output_type": "execute_result"
    }
   ],
   "source": [
    "colunas_n = list(enem.columns)\n",
    "colunas_n = colunas[0:5]\n",
    "colunas_n"
   ]
  },
  {
   "cell_type": "code",
   "execution_count": 59,
   "id": "b25e8e92",
   "metadata": {
    "scrolled": true
   },
   "outputs": [
    {
     "name": "stdout",
     "output_type": "stream",
     "text": [
      "[517.4563171927]\n",
      "[517.4563171927, 474.0196954613]\n",
      "[517.4563171927, 474.0196954613, 487.60456835130003]\n",
      "[517.4563171927, 474.0196954613, 487.60456835130003, 488.0779018921]\n",
      "[517.4563171927, 474.0196954613, 487.60456835130003, 488.0779018921, 640.9966668267]\n"
     ]
    }
   ],
   "source": [
    "# Disciplina com maior amplitude de nota \n",
    "amplitude  = []\n",
    "for i in colunas_n:\n",
    "        x = enem[i].max() - enem[i].min()\n",
    "        amplitude.append(x)\n",
    "        print(amplitude)"
   ]
  },
  {
   "cell_type": "code",
   "execution_count": 65,
   "id": "b1dd40f2",
   "metadata": {},
   "outputs": [
    {
     "name": "stdout",
     "output_type": "stream",
     "text": [
      "Médias: [517.4671621383919, 528.3514542155492, 502.1421008280387, 537.1724797842871, 641.1931234629291]\n",
      "Medianas: [517.1288314442, 528.50326342525, 502.93520944194995, 532.9614855364, 639.60269114995]\n"
     ]
    }
   ],
   "source": [
    "#Qual é a média e a mediana para cada uma das disciplinas?\n",
    "medias = []\n",
    "medianas = []\n",
    "for i in colunas_n:\n",
    "    if enem[i].dtype in ['float64', 'int64']: \n",
    "        x = enem[i].mean()\n",
    "        y = enem[i].median()\n",
    "        medias.append(x)\n",
    "        medianas.append(y)\n",
    "     \n",
    "    else:\n",
    "        print(f\"Coluna '{column}' não é numérica.\")\n",
    "print(\"Médias:\", medias)\n",
    "print(\"Medianas:\", medianas)\n"
   ]
  },
  {
   "cell_type": "code",
   "execution_count": 82,
   "id": "656a0a4b",
   "metadata": {},
   "outputs": [
    {
     "data": {
      "text/plain": [
       "{'Linguagens': 2,\n",
       " 'Ciências humanas': 1,\n",
       " 'Ciências da natureza': 1,\n",
       " 'Matemática': 4,\n",
       " 'Redação': 2}"
      ]
     },
     "execution_count": 82,
     "metadata": {},
     "output_type": "execute_result"
    }
   ],
   "source": [
    "peso = [2, 1, 1, 4, 2]\n",
    "pesos = list(zip(colunas_n, peso))\n",
    "pesos = dict(pesos)\n",
    "pesos"
   ]
  },
  {
   "cell_type": "code",
   "execution_count": 101,
   "id": "430dd5bb",
   "metadata": {},
   "outputs": [
    {
     "name": "stdout",
     "output_type": "stream",
     "text": [
      "Média das notas ponderadas dos 500 melhores estudantes: 5572.896772018768\n",
      "Desvio padrão das notas ponderadas dos 500 melhores estudantes: 404.3586629946426\n"
     ]
    }
   ],
   "source": [
    "df_UFPE = enem.copy()\n",
    "df_UFPE = df_UFPE.dropna()\n",
    "for coluna, peso in pesos.items():\n",
    "    if coluna in df_UFPE.columns:\n",
    "        df_UFPE[coluna] *= peso\n",
    "\n",
    "        \n",
    "df_UFPE['Nota Ponderada'] = df_UFPE.loc[:, list(pesos.keys())].sum(axis=1)\n",
    "\n",
    "\n",
    "df_top500 = df_UFPE.sort_values(by='Nota Ponderada', ascending=False).head(500)\n",
    "\n",
    "# Calcular média e desvio padrão das notas ponderadas\n",
    "media = df_top500['Nota Ponderada'].mean()\n",
    "desvio_padrao = df_top500['Nota Ponderada'].std()\n",
    "\n",
    "print(f\"Média das notas ponderadas dos 500 melhores estudantes: {media}\")\n",
    "print(f\"Desvio padrão das notas ponderadas dos 500 melhores estudantes: {desvio_padrao}\")\n",
    "\n"
   ]
  },
  {
   "cell_type": "code",
   "execution_count": 107,
   "id": "9df791e4",
   "metadata": {},
   "outputs": [
    {
     "name": "stdout",
     "output_type": "stream",
     "text": [
      "A médias so alunas aprovados é 6366.827415075187  e a variância é 29576.75036004101\n"
     ]
    }
   ],
   "source": [
    "#questão 4\n",
    "aprovados = df_UFPE.sort_values(by='Nota Ponderada', ascending=False).head(40)\n",
    "medias_aprovados = aprovados['Nota Ponderada'].mean()\n",
    "variancia_aprovado = aprovados['Nota Ponderada'].var()\n",
    "\n",
    "print('A médias so alunas aprovados é', medias_aprovados, ' e a variância é', variancia_aprovado)"
   ]
  },
  {
   "cell_type": "code",
   "execution_count": 116,
   "id": "0cea7333",
   "metadata": {},
   "outputs": [
    {
     "name": "stdout",
     "output_type": "stream",
     "text": [
      "valor do teto do terceiro quartil para as disciplinas de matemática e linguagens é respectimente: 2880.173266156 1340.1405144505002\n"
     ]
    }
   ],
   "source": [
    "#questão 5\n",
    "m = aprovados['Matemática'].quantile(.75)\n",
    "l = aprovados['Linguagens'].quantile(.75)\n",
    "print('valor do teto do terceiro quartil para as disciplinas de matemática e linguagens é respectimente:', m, l)"
   ]
  },
  {
   "cell_type": "code",
   "execution_count": 120,
   "id": "865a63d0",
   "metadata": {},
   "outputs": [
    {
     "data": {
      "image/png": "[encoded data removed]",
      "text/plain": [
       "<Figure size 640x480 with 1 Axes>"
      ]
     },
     "metadata": {},
     "output_type": "display_data"
    },
    {
     "data": {
      "image/png": "[encoded data removed]",
      "text/plain": [
       "<Figure size 640x480 with 1 Axes>"
      ]
     },
     "metadata": {},
     "output_type": "display_data"
    }
   ],
   "source": [
    "#questão 6\n",
    "import matplotlib.pyplot as plt\n",
    "plt.hist(enem['Linguagens'], 20, rwidth=0.9)\n",
    "plt.show()\n",
    "plt.hist(enem['Redação'], 20, rwidth=0.9)\n",
    "plt.show()\n",
    "# ambas as cruvas são simétricas parecidas com a curva de gauciana, apresentando a maioria dos seus dados em torno da média.\n"
   ]
  },
  {
   "cell_type": "code",
   "execution_count": 125,
   "id": "8e551107",
   "metadata": {},
   "outputs": [
    {
     "data": {
      "image/png": "[encoded data removed]",
      "text/plain": [
       "<Figure size 640x480 with 1 Axes>"
      ]
     },
     "metadata": {},
     "output_type": "display_data"
    },
    {
     "data": {
      "image/png": "[encoded data removed]",
      "text/plain": [
       "<Figure size 640x480 with 1 Axes>"
      ]
     },
     "metadata": {},
     "output_type": "display_data"
    }
   ],
   "source": [
    "#quetão 7\n",
    "plt.hist(enem['Linguagens'],  20, rwidth=0.9, range=[0, 1000])\n",
    "plt.show()\n",
    "plt.hist(enem['Redação'],  20, rwidth=0.9, range=[0, 1000])\n",
    "plt.show()\n",
    "#ambas as curva continuam simetras, porém a curva de Radeção apresenta uma leve assimetria para esquerda mostrando uma tendencia maior a notas abaixo de 700"
   ]
  },
  {
   "cell_type": "code",
   "execution_count": 132,
   "id": "db357600",
   "metadata": {},
   "outputs": [
    {
     "data": {
      "text/plain": [
       "<AxesSubplot:>"
      ]
     },
     "execution_count": 132,
     "metadata": {},
     "output_type": "execute_result"
    },
    {
     "data": {
      "image/png": "[encoded data removed]",
      "text/plain": [
       "<Figure size 640x480 with 1 Axes>"
      ]
     },
     "metadata": {},
     "output_type": "display_data"
    }
   ],
   "source": [
    "#Questão 8\n",
    "enem.boxplot(column=['Ciências da natureza', 'Redação'], patch_artist=True)\n",
    "# sim é possivel ver o outiliers"
   ]
  },
  {
   "cell_type": "code",
   "execution_count": 157,
   "id": "5da6f9cb",
   "metadata": {},
   "outputs": [],
   "source": [
    "#questão 9 - removendo outliers pelo método IQR\n",
    "def find_outlier_iqr(dataset, colname):\n",
    "    q25 = np.quantile(dataset[colname], 0.25)\n",
    "    q75 = np.quantile(dataset[colname], 0.75)\n",
    "    iqr = q75 - q25\n",
    "    lower = q25 - 1.5 * iqr\n",
    "    upper = q75 + 1.5 * iqr\n",
    "    return lower, upper\n",
    "def drop_outliers(dataset, colname):\n",
    "    lower, upper = find_outlier_iqr(dataset, colname)\n",
    "    # Remove os outliers baseando-se nos limites calculados\n",
    "    return dataset[(dataset[colname] >= lower) & (dataset[colname] <= upper)]\n"
   ]
  },
  {
   "cell_type": "code",
   "execution_count": 155,
   "id": "53b9a72f",
   "metadata": {},
   "outputs": [
    {
     "name": "stdout",
     "output_type": "stream",
     "text": [
      " IQR é  157.02513490047488\n",
      "Valor minimo 322.98725564181274\n",
      "Valor maximo 951.0877952437122\n"
     ]
    }
   ],
   "source": [
    "#questão 9\n",
    "out = find_outlier_iqr(enem, 'Redação')"
   ]
  },
  {
   "cell_type": "code",
   "execution_count": 158,
   "id": "5df68631",
   "metadata": {},
   "outputs": [
    {
     "name": "stdout",
     "output_type": "stream",
     "text": [
      "Coluna: Linguagens\n",
      "  Média Original: 517.47\n",
      "  Média Ajustada: 517.36\n",
      "  Diferença Percentual: 0.02%\n",
      "  Diferença Significativa? Não\n",
      "\n",
      "Coluna: Ciências humanas\n",
      "  Média Original: 528.35\n",
      "  Média Ajustada: 527.95\n",
      "  Diferença Percentual: 0.08%\n",
      "  Diferença Significativa? Não\n",
      "\n",
      "Coluna: Ciências da natureza\n",
      "  Média Original: 502.14\n",
      "  Média Ajustada: 501.17\n",
      "  Diferença Percentual: 0.19%\n",
      "  Diferença Significativa? Não\n",
      "\n",
      "Coluna: Matemática\n",
      "  Média Original: 537.17\n",
      "  Média Ajustada: 535.73\n",
      "  Diferença Percentual: 0.27%\n",
      "  Diferença Significativa? Não\n",
      "\n",
      "Coluna: Redação\n",
      "  Média Original: 641.19\n",
      "  Média Ajustada: 641.83\n",
      "  Diferença Percentual: -0.10%\n",
      "  Diferença Significativa? Não\n",
      "\n"
     ]
    }
   ],
   "source": [
    "def verificar_significancia(dataset, threshold=5):\n",
    "    resultados = {}\n",
    "    \n",
    "    for colname in dataset.select_dtypes(include=np.number).columns:\n",
    "        media_original = dataset[colname].mean()     \n",
    "        \n",
    "        dataset_clean = drop_outliers(dataset, colname)\n",
    "        \n",
    "        # Calcular a média ajustada\n",
    "        media_ajustada = dataset_clean[colname].mean()\n",
    "        \n",
    "        # Calcular a diferença percentual\n",
    "        diferenca_percentual = ((media_original - media_ajustada) / media_original) * 100\n",
    "        \n",
    "        # Verificar se a diferença é significativa\n",
    "        significativa = diferenca_percentual > threshold\n",
    "        \n",
    "        resultados[colname] = {\n",
    "            'Média Original': media_original,\n",
    "            'Média Ajustada': media_ajustada,\n",
    "            'Diferença Percentual': diferenca_percentual,\n",
    "            'Diferença Significativa': significativa\n",
    "        }\n",
    "    \n",
    "    return resultados\n",
    "\n",
    "# Verificar a diferença significativa para todas as colunas\n",
    "resultados = verificar_significancia(enem)\n",
    "\n",
    "# Exibir resultados\n",
    "for coluna, info in resultados.items():\n",
    "    print(f\"Coluna: {coluna}\")\n",
    "    print(f\"  Média Original: {info['Média Original']:.2f}\")\n",
    "    print(f\"  Média Ajustada: {info['Média Ajustada']:.2f}\")\n",
    "    print(f\"  Diferença Percentual: {info['Diferença Percentual']:.2f}%\")\n",
    "    print(f\"  Diferença Significativa? {'Sim' if info['Diferença Significativa'] else 'Não'}\")\n",
    "    print()"
   ]
  },
  {
   "cell_type": "code",
   "execution_count": 24,
   "id": "16a63983",
   "metadata": {},
   "outputs": [
    {
     "data": {
      "text/plain": [
       "Linguagens              103\n",
       "Ciências humanas         64\n",
       "Ciências da natureza    176\n",
       "Matemática               76\n",
       "Redação                 140\n",
       "Sexo                      0\n",
       "dtype: int64"
      ]
     },
     "execution_count": 24,
     "metadata": {},
     "output_type": "execute_result"
    }
   ],
   "source": [
    "#quet+stão 10 \n",
    "#identificando valores ausentes \n",
    "enem_o = pd.read_json(r'C:\\Users\\alice\\Desktop\\banco\\enem_2023.json')\n",
    "enem_o.isna().sum()"
   ]
  },
  {
   "cell_type": "code",
   "execution_count": 41,
   "id": "16cd211e",
   "metadata": {},
   "outputs": [
    {
     "data": {
      "text/html": [
       "<div>\n",
       "<style scoped>\n",
       "    .dataframe tbody tr th:only-of-type {\n",
       "        vertical-align: middle;\n",
       "    }\n",
       "\n",
       "    .dataframe tbody tr th {\n",
       "        vertical-align: top;\n",
       "    }\n",
       "\n",
       "    .dataframe thead th {\n",
       "        text-align: right;\n",
       "    }\n",
       "</style>\n",
       "<table border=\"1\" class=\"dataframe\">\n",
       "  <thead>\n",
       "    <tr style=\"text-align: right;\">\n",
       "      <th></th>\n",
       "      <th>Linguagens</th>\n",
       "      <th>Ciências humanas</th>\n",
       "      <th>Ciências da natureza</th>\n",
       "      <th>Matemática</th>\n",
       "      <th>Redação</th>\n",
       "    </tr>\n",
       "  </thead>\n",
       "  <tbody>\n",
       "    <tr>\n",
       "      <th>count</th>\n",
       "      <td>1000.000000</td>\n",
       "      <td>1000.000000</td>\n",
       "      <td>1000.000000</td>\n",
       "      <td>1000.000000</td>\n",
       "      <td>1000.000000</td>\n",
       "    </tr>\n",
       "    <tr>\n",
       "      <th>mean</th>\n",
       "      <td>514.524809</td>\n",
       "      <td>527.042281</td>\n",
       "      <td>499.315583</td>\n",
       "      <td>535.965660</td>\n",
       "      <td>637.783532</td>\n",
       "    </tr>\n",
       "    <tr>\n",
       "      <th>std</th>\n",
       "      <td>79.560718</td>\n",
       "      <td>75.277806</td>\n",
       "      <td>71.486677</td>\n",
       "      <td>83.286987</td>\n",
       "      <td>106.953175</td>\n",
       "    </tr>\n",
       "    <tr>\n",
       "      <th>min</th>\n",
       "      <td>287.000000</td>\n",
       "      <td>289.900000</td>\n",
       "      <td>314.400000</td>\n",
       "      <td>319.800000</td>\n",
       "      <td>270.839965</td>\n",
       "    </tr>\n",
       "    <tr>\n",
       "      <th>25%</th>\n",
       "      <td>464.362445</td>\n",
       "      <td>479.418513</td>\n",
       "      <td>459.456673</td>\n",
       "      <td>485.234093</td>\n",
       "      <td>571.697962</td>\n",
       "    </tr>\n",
       "    <tr>\n",
       "      <th>50%</th>\n",
       "      <td>514.524809</td>\n",
       "      <td>527.042281</td>\n",
       "      <td>499.315583</td>\n",
       "      <td>535.965660</td>\n",
       "      <td>637.783532</td>\n",
       "    </tr>\n",
       "    <tr>\n",
       "      <th>75%</th>\n",
       "      <td>564.793722</td>\n",
       "      <td>576.696971</td>\n",
       "      <td>536.724816</td>\n",
       "      <td>586.927627</td>\n",
       "      <td>699.972897</td>\n",
       "    </tr>\n",
       "    <tr>\n",
       "      <th>max</th>\n",
       "      <td>804.456317</td>\n",
       "      <td>763.919695</td>\n",
       "      <td>802.004568</td>\n",
       "      <td>807.877902</td>\n",
       "      <td>1000.000000</td>\n",
       "    </tr>\n",
       "  </tbody>\n",
       "</table>\n",
       "</div>"
      ],
      "text/plain": [
       "        Linguagens  Ciências humanas  Ciências da natureza   Matemática  \\\n",
       "count  1000.000000       1000.000000           1000.000000  1000.000000   \n",
       "mean    514.524809        527.042281            499.315583   535.965660   \n",
       "std      79.560718         75.277806             71.486677    83.286987   \n",
       "min     287.000000        289.900000            314.400000   319.800000   \n",
       "25%     464.362445        479.418513            459.456673   485.234093   \n",
       "50%     514.524809        527.042281            499.315583   535.965660   \n",
       "75%     564.793722        576.696971            536.724816   586.927627   \n",
       "max     804.456317        763.919695            802.004568   807.877902   \n",
       "\n",
       "           Redação  \n",
       "count  1000.000000  \n",
       "mean    637.783532  \n",
       "std     106.953175  \n",
       "min     270.839965  \n",
       "25%     571.697962  \n",
       "50%     637.783532  \n",
       "75%     699.972897  \n",
       "max    1000.000000  "
      ]
     },
     "execution_count": 41,
     "metadata": {},
     "output_type": "execute_result"
    }
   ],
   "source": [
    "#opção 1: subistituindo pela média\n",
    "enem_o.fillna(enem_o.mean(numeric_only=True), inplace=True)\n",
    "numericas = enem_o.select_dtypes(include='number')\n",
    "numericas.describe()"
   ]
  },
  {
   "cell_type": "code",
   "execution_count": 45,
   "id": "e1db0ed1",
   "metadata": {},
   "outputs": [
    {
     "data": {
      "text/html": [
       "<div>\n",
       "<style scoped>\n",
       "    .dataframe tbody tr th:only-of-type {\n",
       "        vertical-align: middle;\n",
       "    }\n",
       "\n",
       "    .dataframe tbody tr th {\n",
       "        vertical-align: top;\n",
       "    }\n",
       "\n",
       "    .dataframe thead th {\n",
       "        text-align: right;\n",
       "    }\n",
       "</style>\n",
       "<table border=\"1\" class=\"dataframe\">\n",
       "  <thead>\n",
       "    <tr style=\"text-align: right;\">\n",
       "      <th></th>\n",
       "      <th>Linguagens</th>\n",
       "      <th>Ciências humanas</th>\n",
       "      <th>Ciências da natureza</th>\n",
       "      <th>Matemática</th>\n",
       "      <th>Redação</th>\n",
       "    </tr>\n",
       "  </thead>\n",
       "  <tbody>\n",
       "    <tr>\n",
       "      <th>count</th>\n",
       "      <td>1000.000000</td>\n",
       "      <td>1000.000000</td>\n",
       "      <td>1000.000000</td>\n",
       "      <td>1000.000000</td>\n",
       "      <td>1000.000000</td>\n",
       "    </tr>\n",
       "    <tr>\n",
       "      <th>mean</th>\n",
       "      <td>514.524809</td>\n",
       "      <td>527.042281</td>\n",
       "      <td>499.315583</td>\n",
       "      <td>535.965660</td>\n",
       "      <td>637.783532</td>\n",
       "    </tr>\n",
       "    <tr>\n",
       "      <th>std</th>\n",
       "      <td>79.560718</td>\n",
       "      <td>75.277806</td>\n",
       "      <td>71.486677</td>\n",
       "      <td>83.286987</td>\n",
       "      <td>106.953175</td>\n",
       "    </tr>\n",
       "    <tr>\n",
       "      <th>min</th>\n",
       "      <td>287.000000</td>\n",
       "      <td>289.900000</td>\n",
       "      <td>314.400000</td>\n",
       "      <td>319.800000</td>\n",
       "      <td>270.839965</td>\n",
       "    </tr>\n",
       "    <tr>\n",
       "      <th>25%</th>\n",
       "      <td>464.362445</td>\n",
       "      <td>479.418513</td>\n",
       "      <td>459.456673</td>\n",
       "      <td>485.234093</td>\n",
       "      <td>571.697962</td>\n",
       "    </tr>\n",
       "    <tr>\n",
       "      <th>50%</th>\n",
       "      <td>514.524809</td>\n",
       "      <td>527.042281</td>\n",
       "      <td>499.315583</td>\n",
       "      <td>535.965660</td>\n",
       "      <td>637.783532</td>\n",
       "    </tr>\n",
       "    <tr>\n",
       "      <th>75%</th>\n",
       "      <td>564.793722</td>\n",
       "      <td>576.696971</td>\n",
       "      <td>536.724816</td>\n",
       "      <td>586.927627</td>\n",
       "      <td>699.972897</td>\n",
       "    </tr>\n",
       "    <tr>\n",
       "      <th>max</th>\n",
       "      <td>804.456317</td>\n",
       "      <td>763.919695</td>\n",
       "      <td>802.004568</td>\n",
       "      <td>807.877902</td>\n",
       "      <td>1000.000000</td>\n",
       "    </tr>\n",
       "  </tbody>\n",
       "</table>\n",
       "</div>"
      ],
      "text/plain": [
       "        Linguagens  Ciências humanas  Ciências da natureza   Matemática  \\\n",
       "count  1000.000000       1000.000000           1000.000000  1000.000000   \n",
       "mean    514.524809        527.042281            499.315583   535.965660   \n",
       "std      79.560718         75.277806             71.486677    83.286987   \n",
       "min     287.000000        289.900000            314.400000   319.800000   \n",
       "25%     464.362445        479.418513            459.456673   485.234093   \n",
       "50%     514.524809        527.042281            499.315583   535.965660   \n",
       "75%     564.793722        576.696971            536.724816   586.927627   \n",
       "max     804.456317        763.919695            802.004568   807.877902   \n",
       "\n",
       "           Redação  \n",
       "count  1000.000000  \n",
       "mean    637.783532  \n",
       "std     106.953175  \n",
       "min     270.839965  \n",
       "25%     571.697962  \n",
       "50%     637.783532  \n",
       "75%     699.972897  \n",
       "max    1000.000000  "
      ]
     },
     "execution_count": 45,
     "metadata": {},
     "output_type": "execute_result"
    }
   ],
   "source": [
    "enem_o.fillna(enem_o.median(numeric_only=True), inplace=True)\n",
    "numericas = enem_o.select_dtypes(include='number')\n",
    "numericas.describe()"
   ]
  },
  {
   "cell_type": "code",
   "execution_count": 46,
   "id": "95294375",
   "metadata": {},
   "outputs": [
    {
     "data": {
      "text/html": [
       "<div>\n",
       "<style scoped>\n",
       "    .dataframe tbody tr th:only-of-type {\n",
       "        vertical-align: middle;\n",
       "    }\n",
       "\n",
       "    .dataframe tbody tr th {\n",
       "        vertical-align: top;\n",
       "    }\n",
       "\n",
       "    .dataframe thead th {\n",
       "        text-align: right;\n",
       "    }\n",
       "</style>\n",
       "<table border=\"1\" class=\"dataframe\">\n",
       "  <thead>\n",
       "    <tr style=\"text-align: right;\">\n",
       "      <th></th>\n",
       "      <th>Linguagens</th>\n",
       "      <th>Ciências humanas</th>\n",
       "      <th>Ciências da natureza</th>\n",
       "      <th>Matemática</th>\n",
       "      <th>Redação</th>\n",
       "    </tr>\n",
       "  </thead>\n",
       "  <tbody>\n",
       "    <tr>\n",
       "      <th>count</th>\n",
       "      <td>1000.000000</td>\n",
       "      <td>1000.000000</td>\n",
       "      <td>1000.000000</td>\n",
       "      <td>1000.000000</td>\n",
       "      <td>1000.000000</td>\n",
       "    </tr>\n",
       "    <tr>\n",
       "      <th>mean</th>\n",
       "      <td>514.524809</td>\n",
       "      <td>527.042281</td>\n",
       "      <td>499.315583</td>\n",
       "      <td>535.965660</td>\n",
       "      <td>637.783532</td>\n",
       "    </tr>\n",
       "    <tr>\n",
       "      <th>std</th>\n",
       "      <td>79.560718</td>\n",
       "      <td>75.277806</td>\n",
       "      <td>71.486677</td>\n",
       "      <td>83.286987</td>\n",
       "      <td>106.953175</td>\n",
       "    </tr>\n",
       "    <tr>\n",
       "      <th>min</th>\n",
       "      <td>287.000000</td>\n",
       "      <td>289.900000</td>\n",
       "      <td>314.400000</td>\n",
       "      <td>319.800000</td>\n",
       "      <td>270.839965</td>\n",
       "    </tr>\n",
       "    <tr>\n",
       "      <th>25%</th>\n",
       "      <td>464.362445</td>\n",
       "      <td>479.418513</td>\n",
       "      <td>459.456673</td>\n",
       "      <td>485.234093</td>\n",
       "      <td>571.697962</td>\n",
       "    </tr>\n",
       "    <tr>\n",
       "      <th>50%</th>\n",
       "      <td>514.524809</td>\n",
       "      <td>527.042281</td>\n",
       "      <td>499.315583</td>\n",
       "      <td>535.965660</td>\n",
       "      <td>637.783532</td>\n",
       "    </tr>\n",
       "    <tr>\n",
       "      <th>75%</th>\n",
       "      <td>564.793722</td>\n",
       "      <td>576.696971</td>\n",
       "      <td>536.724816</td>\n",
       "      <td>586.927627</td>\n",
       "      <td>699.972897</td>\n",
       "    </tr>\n",
       "    <tr>\n",
       "      <th>max</th>\n",
       "      <td>804.456317</td>\n",
       "      <td>763.919695</td>\n",
       "      <td>802.004568</td>\n",
       "      <td>807.877902</td>\n",
       "      <td>1000.000000</td>\n",
       "    </tr>\n",
       "  </tbody>\n",
       "</table>\n",
       "</div>"
      ],
      "text/plain": [
       "        Linguagens  Ciências humanas  Ciências da natureza   Matemática  \\\n",
       "count  1000.000000       1000.000000           1000.000000  1000.000000   \n",
       "mean    514.524809        527.042281            499.315583   535.965660   \n",
       "std      79.560718         75.277806             71.486677    83.286987   \n",
       "min     287.000000        289.900000            314.400000   319.800000   \n",
       "25%     464.362445        479.418513            459.456673   485.234093   \n",
       "50%     514.524809        527.042281            499.315583   535.965660   \n",
       "75%     564.793722        576.696971            536.724816   586.927627   \n",
       "max     804.456317        763.919695            802.004568   807.877902   \n",
       "\n",
       "           Redação  \n",
       "count  1000.000000  \n",
       "mean    637.783532  \n",
       "std     106.953175  \n",
       "min     270.839965  \n",
       "25%     571.697962  \n",
       "50%     637.783532  \n",
       "75%     699.972897  \n",
       "max    1000.000000  "
      ]
     },
     "execution_count": 46,
     "metadata": {},
     "output_type": "execute_result"
    }
   ],
   "source": [
    "enem_o.fillna(enem_o.mode(numeric_only=True), inplace=True)\n",
    "numericas = enem_o.select_dtypes(include='number')\n",
    "numericas.describe()"
   ]
  },
  {
   "cell_type": "code",
   "execution_count": null,
   "id": "3e61dbc0",
   "metadata": {},
   "outputs": [],
   "source": [
    "# as 3 oção se mantiveram semelhante, logo devemos considerar que os dados tem uma dis"
   ]
  }
 ],
 "metadata": {
  "kernelspec": {
   "display_name": "Python 3 (ipykernel)",
   "language": "python",
   "name": "python3"
  },
  "language_info": {
   "codemirror_mode": {
    "name": "ipython",
    "version": 3
   },
   "file_extension": ".py",
   "mimetype": "text/x-python",
   "name": "python",
   "nbconvert_exporter": "python",
   "pygments_lexer": "ipython3",
   "version": "3.9.13"
  }
 },
 "nbformat": 4,
 "nbformat_minor": 5
}
